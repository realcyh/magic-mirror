{
 "cells": [
  {
   "cell_type": "code",
   "execution_count": 11,
   "metadata": {},
   "outputs": [
    {
     "name": "stdout",
     "output_type": "stream",
     "text": [
      "....................['我就，']\n"
     ]
    }
   ],
   "source": [
    "import wave\n",
    "from pyaudio import PyAudio,paInt16\n",
    "import os\n",
    "from aip import AipSpeech\n",
    "import ffmpy #视频音频转码模块\n",
    "from urllib.request import urlopen\n",
    "from bs4 import BeautifulSoup\n",
    "import re\n",
    "\n",
    "\n",
    "os.chdir('E:\\我的东西\\新建文件夹\\文件\\课件\\信工课件\\电子系统综合设计\\半成品\\代码文件')\n",
    "framerate=8000\n",
    "NUM_SAMPLES=2000\n",
    "channels=1\n",
    "sampwidth=2\n",
    "TIME=1\n",
    "filename_record = 'audio_record.wav'\n",
    "filename_answer = 'audio.wav'\n",
    "APP_ID = '11169887'\n",
    "API_KEY = 'TQypLIsDnr4XwzfyKGLqMsfD'\n",
    "SECRET_KEY = 'bc5efee36b796c2b467dba12c2a080b0'\n",
    "\n",
    "\n",
    "def save_wave_file(filename,data):\n",
    "    '''save the date to the wavfile'''\n",
    "    wf=wave.open(filename,'wb')\n",
    "    wf.setnchannels(channels)\n",
    "    wf.setsampwidth(sampwidth)\n",
    "    wf.setframerate(framerate)\n",
    "    wf.writeframes(b\"\".join(data))\n",
    "    wf.close()\n",
    "\n",
    "def my_record():\n",
    "    pa=PyAudio()\n",
    "    stream=pa.open(format = paInt16,channels=1,\n",
    "                   rate=framerate,input=True,\n",
    "                   frames_per_buffer=NUM_SAMPLES)\n",
    "    my_buf=[]\n",
    "    count=0\n",
    "    while count<TIME*20:#控制录音时间\n",
    "        string_audio_data = stream.read(NUM_SAMPLES)\n",
    "        my_buf.append(string_audio_data)\n",
    "        count+=1\n",
    "        print('.',end='')\n",
    "    stream.close()\n",
    "    return my_buf\n",
    "\n",
    "chunk=2048 #好像是分段记录时每次记录的点数\n",
    "def play(filename):\n",
    "    wf=wave.open(filename,'rb')  \n",
    "    p=PyAudio()\n",
    "    stream=p.open(format=p.get_format_from_width(wf.getsampwidth()),channels=\n",
    "    wf.getnchannels(),rate=wf.getframerate(),output=True)\n",
    "    while True:\n",
    "        data=wf.readframes(chunk)\n",
    "        if data==b'':break\n",
    "        stream.write(data) #这一行是播放语音\n",
    "    stream.close()\n",
    "    p.terminate()\n",
    "\n",
    "# 读取文件\n",
    "def get_file_content(filePath):\n",
    "    with open(filePath, 'rb') as fp:\n",
    "        return fp.read() \n",
    "\n",
    "def get_weather():\n",
    "    resp=urlopen('http://www.weather.com.cn/weather/101280101.shtml')\n",
    "    soup=BeautifulSoup(resp,'html.parser')\n",
    "    tagDate=soup.find('ul', class_=\"t clearfix\")\n",
    "    dates=tagDate.h1.string\n",
    "    tagToday=soup.find('p', class_=\"tem\")\n",
    "    try:\n",
    "        temperatureHigh=tagToday.span.string\n",
    "    except AttributeError as e:\n",
    "        temperatureHigh=tagToday.find_next('p', class_=\"tem\").span.string\n",
    "    temperatureLow=tagToday.i.string\n",
    "    weather=soup.find('p', class_=\"wea\").string\n",
    "    tagWind=soup.find('p',class_=\"win\")\n",
    "    winL=tagWind.i.string\n",
    "    result_weather = '今天是：'+ dates.replace('（今天）','') + ',风级：' + winL + ',最低温度：' + temperatureLow.replace('℃','度') + ',最高温度：' + temperatureHigh.replace('℃','度') + ',天气：'+ weather\n",
    "    return result_weather\n",
    "\n",
    "client = AipSpeech(APP_ID, API_KEY, SECRET_KEY) \n",
    "filename_record = 'audio_record.wav'\n",
    "data = my_record()\n",
    "save_wave_file(filename_record,data)\n",
    "\n",
    "# message = result_weather.encode('utf8')\n",
    "# wf=wave.open(filename_record,'rb')\n",
    "# rate=wf.getframerate()    #照目前的情况是8000，如果有变化，再用上这个语句\n",
    "result_stt = client.asr(get_file_content(filename_record), 'wav', 8000, {'dev_pid': '1537'}) #dev_pid=1537是纯中文普通话，1536支持简单英文\n",
    "# wf.close()\n",
    "print(result_stt['result'])\n",
    "message = str(result_stt['result']).encode('utf8')\n",
    "search_result = re.search(u'.*魔镜魔镜'.encode('utf8'), message)\n",
    "if search_result is not None: #接收到了唤醒语，开始工作\n",
    "    flag = 1\n",
    "    search_result = re.search(u'.*天气'.encode('utf8'), message)\n",
    "    if search_result is not None:\n",
    "        message_answer = get_weather()\n",
    "    else:\n",
    "        flag = 0\n",
    "#         message_answer = '你在说什么我听不见'\n",
    "    if flag:\n",
    "        result_tts = client.synthesis(message_answer, 'zh', 1, {'vol': 5, 'per': 3}) \n",
    "        if not isinstance(result_tts, dict):\n",
    "            with open('audio_raw.wav', 'wb') as f:\n",
    "                f.write(result_tts)\n",
    "        ff = ffmpy.FFmpeg(\n",
    "            inputs={'audio_raw.wav': None},\n",
    "            outputs={filename_answer: None}\n",
    "        )\n",
    "        ff.run() #美中不足的时没有学会怎么执行覆盖文件操作，文件存在时写入操作会被直接跳过，故现在只能暂时在转码播放后直接将其移除\n",
    "        play(filename_answer)\n",
    "        os.remove(filename_answer)\n",
    "\n",
    "# 首先实现：读取A23_0.wav，能将识别内容显示在屏幕上（已完成）\n",
    "# 然后实现：将显示在屏幕上的识别内容转成音频\n",
    "# 接着给音频加上RIFF头\n",
    "# 最后播放音频"
   ]
  },
  {
   "cell_type": "code",
   "execution_count": 10,
   "metadata": {},
   "outputs": [
    {
     "data": {
      "text/plain": [
       "{'corpus_no': '6550914675136817954',\n",
       " 'err_msg': 'success.',\n",
       " 'err_no': 0,\n",
       " 'result': ['魔镜魔镜今天天气怎么样，'],\n",
       " 'sn': '200189269881525253680'}"
      ]
     },
     "execution_count": 10,
     "metadata": {},
     "output_type": "execute_result"
    }
   ],
   "source": [
    "result_stt"
   ]
  },
  {
   "cell_type": "code",
   "execution_count": 8,
   "metadata": {},
   "outputs": [],
   "source": [
    "import sys"
   ]
  },
  {
   "cell_type": "code",
   "execution_count": 4,
   "metadata": {},
   "outputs": [
    {
     "data": {
      "text/plain": [
       "['',\n",
       " 'D:\\\\Anaconda3 4.2.0\\\\python35.zip',\n",
       " 'D:\\\\Anaconda3 4.2.0\\\\DLLs',\n",
       " 'D:\\\\Anaconda3 4.2.0\\\\lib',\n",
       " 'D:\\\\Anaconda3 4.2.0',\n",
       " 'D:\\\\Anaconda3 4.2.0\\\\lib\\\\site-packages',\n",
       " 'D:\\\\Anaconda3 4.2.0\\\\lib\\\\site-packages\\\\Sphinx-1.4.6-py3.5.egg',\n",
       " 'D:\\\\Anaconda3 4.2.0\\\\lib\\\\site-packages\\\\win32',\n",
       " 'D:\\\\Anaconda3 4.2.0\\\\lib\\\\site-packages\\\\win32\\\\lib',\n",
       " 'D:\\\\Anaconda3 4.2.0\\\\lib\\\\site-packages\\\\Pythonwin',\n",
       " 'D:\\\\Anaconda3 4.2.0\\\\lib\\\\site-packages\\\\setuptools-27.2.0-py3.5.egg',\n",
       " 'D:\\\\Anaconda3 4.2.0\\\\lib\\\\site-packages\\\\IPython\\\\extensions',\n",
       " 'C:\\\\Users\\\\Administrator\\\\.ipython']"
      ]
     },
     "execution_count": 4,
     "metadata": {},
     "output_type": "execute_result"
    }
   ],
   "source": [
    "sys.path"
   ]
  },
  {
   "cell_type": "code",
   "execution_count": 12,
   "metadata": {},
   "outputs": [
    {
     "data": {
      "text/plain": [
       "40000"
      ]
     },
     "execution_count": 12,
     "metadata": {},
     "output_type": "execute_result"
    }
   ],
   "source": [
    "import pyaudio\n",
    "import pprint\n",
    "import numpy as np\n",
    "from scipy.io.wavfile import read\n",
    "a = read('audio_record.wav')\n",
    "b = np.array(a[1], dtype=float)\n",
    "#b 就是数据矩阵"
   ]
  },
  {
   "cell_type": "code",
   "execution_count": null,
   "metadata": {},
   "outputs": [],
   "source": []
  }
 ],
 "metadata": {
  "anaconda-cloud": {},
  "kernelspec": {
   "display_name": "Python 3",
   "language": "python",
   "name": "python3"
  },
  "language_info": {
   "codemirror_mode": {
    "name": "ipython",
    "version": 3
   },
   "file_extension": ".py",
   "mimetype": "text/x-python",
   "name": "python",
   "nbconvert_exporter": "python",
   "pygments_lexer": "ipython3",
   "version": "3.6.2"
  }
 },
 "nbformat": 4,
 "nbformat_minor": 1
}
